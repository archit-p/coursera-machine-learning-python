{
 "cells": [
  {
   "cell_type": "markdown",
   "id": "outdoor-globe",
   "metadata": {},
   "source": [
    "# Logistic Regression to Predict University Admissions\n",
    "\n",
    "Machine Learning on Coursera Week 2 assignment involves building a logistic regression model to predict whether a student will be offered admissions to a university based on two test scores."
   ]
  },
  {
   "cell_type": "markdown",
   "id": "contrary-terrace",
   "metadata": {},
   "source": [
    "## Part 1: Getting the Data\n",
    "As usual, we first load the dataset into a Python array."
   ]
  },
  {
   "cell_type": "code",
   "execution_count": 1,
   "id": "neither-workstation",
   "metadata": {},
   "outputs": [],
   "source": [
    "import matplotlib.pyplot as plt\n",
    "import numpy as np\n",
    "import matplotlib\n",
    "import math\n",
    "import scipy.optimize as op\n",
    "\n",
    "path = '/Users/archit-p/sources/coursera/machine-learning/machine-learning-ex2/ex2/ex2data1.txt'"
   ]
  },
  {
   "cell_type": "code",
   "execution_count": 2,
   "id": "incorporate-eugene",
   "metadata": {},
   "outputs": [],
   "source": [
    "f = open(path, 'r')\n",
    "\n",
    "dataset = []\n",
    "\n",
    "for line in f:\n",
    "    fields = line.strip().split(',')\n",
    "    fields[0] = float(fields[0])\n",
    "    fields[1] = float(fields[1])\n",
    "    fields[2] = int(fields[2])\n",
    "    dataset.append(fields)"
   ]
  },
  {
   "cell_type": "markdown",
   "id": "brutal-channel",
   "metadata": {},
   "source": [
    "Each row of data consists of two test scores and a numeric value indicating which is 1 if the student was admitted and 0 otherwise."
   ]
  },
  {
   "cell_type": "code",
   "execution_count": 3,
   "id": "essential-matrix",
   "metadata": {},
   "outputs": [
    {
     "data": {
      "text/plain": [
       "[[34.62365962451697, 78.0246928153624, 0],\n",
       " [30.28671076822607, 43.89499752400101, 0],\n",
       " [35.84740876993872, 72.90219802708364, 0],\n",
       " [60.18259938620976, 86.30855209546826, 1],\n",
       " [79.0327360507101, 75.3443764369103, 1]]"
      ]
     },
     "execution_count": 3,
     "metadata": {},
     "output_type": "execute_result"
    }
   ],
   "source": [
    "dataset[0:5]"
   ]
  },
  {
   "cell_type": "markdown",
   "id": "rising-minority",
   "metadata": {},
   "source": [
    "We transform the data into a `numpy` matrix with features and a `numpy` vector with results."
   ]
  },
  {
   "cell_type": "code",
   "execution_count": 4,
   "id": "finished-sydney",
   "metadata": {},
   "outputs": [],
   "source": [
    "# number of features\n",
    "n = 2\n",
    "\n",
    "# number of datapoints\n",
    "m = len(dataset)\n",
    "\n",
    "x = np.ones(shape=(m, n + 1))\n",
    "y = np.zeros(m)\n",
    "\n",
    "for i, d in enumerate(dataset):\n",
    "    for j in range(n):\n",
    "        x[i][1 + j] = dataset[i][j]\n",
    "        y[i] = dataset[i][-1]"
   ]
  },
  {
   "cell_type": "code",
   "execution_count": 5,
   "id": "brave-shakespeare",
   "metadata": {},
   "outputs": [
    {
     "data": {
      "text/plain": [
       "array([[ 1.        , 34.62365962, 78.02469282],\n",
       "       [ 1.        , 30.28671077, 43.89499752],\n",
       "       [ 1.        , 35.84740877, 72.90219803],\n",
       "       [ 1.        , 60.18259939, 86.3085521 ],\n",
       "       [ 1.        , 79.03273605, 75.34437644]])"
      ]
     },
     "execution_count": 5,
     "metadata": {},
     "output_type": "execute_result"
    }
   ],
   "source": [
    "x[0:5]"
   ]
  },
  {
   "cell_type": "code",
   "execution_count": 126,
   "id": "finished-berlin",
   "metadata": {},
   "outputs": [
    {
     "data": {
      "text/plain": [
       "array([0., 0., 0., 1., 1.])"
      ]
     },
     "execution_count": 126,
     "metadata": {},
     "output_type": "execute_result"
    }
   ],
   "source": [
    "y[0:5]"
   ]
  },
  {
   "cell_type": "markdown",
   "id": "damaged-senate",
   "metadata": {},
   "source": [
    "We can visualize the data now using `matplotlib`."
   ]
  },
  {
   "cell_type": "code",
   "execution_count": 127,
   "id": "unnecessary-synthesis",
   "metadata": {},
   "outputs": [
    {
     "data": {
      "image/png": "[encoded data removed]",
      "text/plain": [
       "<Figure size 432x288 with 1 Axes>"
      ]
     },
     "metadata": {
      "needs_background": "light"
     },
     "output_type": "display_data"
    }
   ],
   "source": [
    "plt.scatter(x[:, 1], x[:, 2], c=y, cmap='viridis')\n",
    "plt.show()"
   ]
  },
  {
   "cell_type": "markdown",
   "id": "interstate-protection",
   "metadata": {},
   "source": [
    "## Part 2: Logistic Regression and Gradient Descent\n",
    "\n",
    "We will define a helper function to calculate the sigmoid function for a given parameter."
   ]
  },
  {
   "cell_type": "code",
   "execution_count": 128,
   "id": "hungry-still",
   "metadata": {},
   "outputs": [],
   "source": [
    "def sigmoid(z):\n",
    "    return 1 / (1 + math.exp(-z))"
   ]
  },
  {
   "cell_type": "code",
   "execution_count": 129,
   "id": "national-publisher",
   "metadata": {},
   "outputs": [
    {
     "data": {
      "text/plain": [
       "0.5"
      ]
     },
     "execution_count": 129,
     "metadata": {},
     "output_type": "execute_result"
    }
   ],
   "source": [
    "sigmoid(0)"
   ]
  },
  {
   "cell_type": "markdown",
   "id": "virtual-pressing",
   "metadata": {},
   "source": [
    "Hypothesis and mean square error functions can be calculated given the feature vectors xi and the parameters theta. We define an additional function gradient which will be used for calculating the gradient given theta, x and y."
   ]
  },
  {
   "cell_type": "code",
   "execution_count": 130,
   "id": "central-brunswick",
   "metadata": {},
   "outputs": [],
   "source": [
    "def hypothesis(theta, xi):\n",
    "    return sigmoid(np.matmul(np.transpose(theta), xi))"
   ]
  },
  {
   "cell_type": "code",
   "execution_count": 131,
   "id": "consolidated-music",
   "metadata": {},
   "outputs": [],
   "source": [
    "def mse(theta, x, y):\n",
    "    sum = 0\n",
    "    for i in range(len(x)):\n",
    "        sum -= y[i] * math.log(hypothesis(theta, x[i, :])) + (1 - y[i]) * math.log(1 - hypothesis(theta, x[i, :]))\n",
    "    return sum / m"
   ]
  },
  {
   "cell_type": "code",
   "execution_count": 132,
   "id": "threatened-stranger",
   "metadata": {},
   "outputs": [],
   "source": [
    "def gradient(theta, x, y):\n",
    "    res = np.empty(n + 1)\n",
    "    for j in range(n + 1):\n",
    "        sum = 0\n",
    "        for i in range(len(x)):\n",
    "            sum += x[i][j] * (hypothesis(theta, x[i, :]) - y[i])\n",
    "        res[j] = sum / m\n",
    "    return res"
   ]
  },
  {
   "cell_type": "code",
   "execution_count": 133,
   "id": "included-trouble",
   "metadata": {},
   "outputs": [
    {
     "data": {
      "text/plain": [
       "0.6931471805599458"
      ]
     },
     "execution_count": 133,
     "metadata": {},
     "output_type": "execute_result"
    }
   ],
   "source": [
    "mse(np.zeros(3), x, y)"
   ]
  },
  {
   "cell_type": "code",
   "execution_count": 134,
   "id": "returning-marijuana",
   "metadata": {},
   "outputs": [
    {
     "data": {
      "text/plain": [
       "array([ -0.1       , -12.00921659, -11.26284221])"
      ]
     },
     "execution_count": 134,
     "metadata": {},
     "output_type": "execute_result"
    }
   ],
   "source": [
    "gradient(np.zeros(3), x, y)"
   ]
  },
  {
   "cell_type": "code",
   "execution_count": 144,
   "id": "rubber-produce",
   "metadata": {},
   "outputs": [],
   "source": [
    "result = op.minimize(fun = mse,\n",
    "                        x0 = np.zeros(n + 1),\n",
    "                        args = (x, y),\n",
    "                        method = 'TNC',\n",
    "                        jac = gradient);\n",
    "\n",
    "theta = result.x"
   ]
  },
  {
   "cell_type": "code",
   "execution_count": 145,
   "id": "lovely-selling",
   "metadata": {},
   "outputs": [
    {
     "data": {
      "text/plain": [
       "0.7762906253511527"
      ]
     },
     "execution_count": 145,
     "metadata": {},
     "output_type": "execute_result"
    }
   ],
   "source": [
    "hypothesis(theta, np.array([1, 45, 85]))"
   ]
  },
  {
   "cell_type": "markdown",
   "id": "comfortable-original",
   "metadata": {},
   "source": [
    "Using the minimized theta values, lets plot the decision boundary."
   ]
  },
  {
   "cell_type": "code",
   "execution_count": 153,
   "id": "falling-london",
   "metadata": {},
   "outputs": [
    {
     "data": {
      "image/png": "[encoded data removed]",
      "text/plain": [
       "<Figure size 432x288 with 1 Axes>"
      ]
     },
     "metadata": {
      "needs_background": "light"
     },
     "output_type": "display_data"
    }
   ],
   "source": [
    "c = -theta[0] / theta[2]\n",
    "m = -theta[1] / theta[2]\n",
    "\n",
    "xmin, xmax = 30, 100\n",
    "xd = np.array([xmin, xmax])\n",
    "yd = xd * m + c\n",
    "\n",
    "plt.scatter(x[:, 1], x[:, 2], c=y, cmap='viridis')\n",
    "plt.plot(xd, yd, 'k', lw=1, ls='--')\n",
    "plt.show()"
   ]
  },
  {
   "cell_type": "markdown",
   "id": "generic-lightweight",
   "metadata": {},
   "source": [
    "Having visualized the decision boundary, let us now see how accurate it is at predicting the outcomes."
   ]
  },
  {
   "cell_type": "code",
   "execution_count": 8,
   "id": "frequent-express",
   "metadata": {},
   "outputs": [],
   "source": [
    "def predict(theta, x):\n",
    "    predictions = np.zeros(len(x))\n",
    "    for i in range(len(x)):\n",
    "        predictions[i] = hypothesis(theta, x[i]) >= 0.5\n",
    "    return predictions"
   ]
  },
  {
   "cell_type": "code",
   "execution_count": 178,
   "id": "appointed-medication",
   "metadata": {},
   "outputs": [],
   "source": [
    "def accuracy(theta, x, y):\n",
    "    predictions = predict(theta, x)\n",
    "    cnt = 0\n",
    "    for i in range(len(y)):\n",
    "        cnt += y[i] == predictions[i]\n",
    "    return cnt / len(y)"
   ]
  },
  {
   "cell_type": "code",
   "execution_count": 179,
   "id": "tropical-supplier",
   "metadata": {},
   "outputs": [
    {
     "data": {
      "text/plain": [
       "0.89"
      ]
     },
     "execution_count": 179,
     "metadata": {},
     "output_type": "execute_result"
    }
   ],
   "source": [
    "accuracy(theta, x, y)"
   ]
  },
  {
   "cell_type": "markdown",
   "id": "typical-ability",
   "metadata": {},
   "source": [
    "We've achieved an 89% accuracy for the model. Looking at the decision boundary above, this might be the most accurate we can get using a straight line.\n",
    "\n",
    "That was it on this assignment. We've seen how to use gradient descent to train a logistic regression model. The main difference here from a linear regression was the `gradient` function."
   ]
  }
 ],
 "metadata": {
  "kernelspec": {
   "display_name": "Python 3",
   "language": "python",
   "name": "python3"
  },
  "language_info": {
   "codemirror_mode": {
    "name": "ipython",
    "version": 3
   },
   "file_extension": ".py",
   "mimetype": "text/x-python",
   "name": "python",
   "nbconvert_exporter": "python",
   "pygments_lexer": "ipython3",
   "version": "3.9.0"
  }
 },
 "nbformat": 4,
 "nbformat_minor": 5
}
