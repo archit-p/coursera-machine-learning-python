{
 "cells": [
  {
   "cell_type": "markdown",
   "id": "tribal-charger",
   "metadata": {},
   "source": [
    "# Logistic Regression to Predict Semiconductor Chip Quality"
   ]
  },
  {
   "cell_type": "markdown",
   "id": "understanding-breeding",
   "metadata": {},
   "source": [
    "Machine Learning on Coursera week 2 exercise includes logistic regression with regularization to prevent overfitting. The data contains scores of the semiconductor cips on two tests and the result of their quality assurance (QA) evaluation. Our goal is to use this data so that given the test scores, we are able to predict whether the chip passes the QA evaluation."
   ]
  },
  {
   "cell_type": "markdown",
   "id": "considerable-compatibility",
   "metadata": {},
   "source": [
    "## Part 1: Getting the data"
   ]
  },
  {
   "cell_type": "code",
   "execution_count": 2,
   "id": "bridal-fireplace",
   "metadata": {},
   "outputs": [],
   "source": [
    "import matplotlib.pyplot as plt\n",
    "import numpy as np\n",
    "import matplotlib\n",
    "import math\n",
    "import scipy.optimize as op\n",
    "import itertools\n",
    "\n",
    "path = '/Users/archit-p/sources/coursera/machine-learning/machine-learning-ex2/ex2/ex2data2.txt'"
   ]
  },
  {
   "cell_type": "code",
   "execution_count": 3,
   "id": "published-tourism",
   "metadata": {},
   "outputs": [],
   "source": [
    "f = open(path, 'r')\n",
    "\n",
    "dataset = []\n",
    "\n",
    "for line in f:\n",
    "    fields = line.strip().split(',')\n",
    "    fields[0] = float(fields[0])\n",
    "    fields[1] = float(fields[1])\n",
    "    fields[2] = int(fields[2])\n",
    "    dataset.append(fields)"
   ]
  },
  {
   "cell_type": "code",
   "execution_count": 4,
   "id": "mounted-prophet",
   "metadata": {},
   "outputs": [
    {
     "data": {
      "text/plain": [
       "[[0.051267, 0.69956, 1],\n",
       " [-0.092742, 0.68494, 1],\n",
       " [-0.21371, 0.69225, 1],\n",
       " [-0.375, 0.50219, 1],\n",
       " [-0.51325, 0.46564, 1]]"
      ]
     },
     "execution_count": 4,
     "metadata": {},
     "output_type": "execute_result"
    }
   ],
   "source": [
    "dataset[0:5]"
   ]
  },
  {
   "cell_type": "code",
   "execution_count": 5,
   "id": "killing-awareness",
   "metadata": {},
   "outputs": [],
   "source": [
    "# transform takes features and transforms them to higher order features with highest order k\n",
    "def transform(x, k):\n",
    "    n = len(x)\n",
    "    results = [1]\n",
    "    for i in range(1, k + 1):\n",
    "        power_pairs = [pair for pair in itertools.product(range(0, i + 1), repeat=n) if sum(pair) == i]\n",
    "        for pair in power_pairs:\n",
    "            cur = 1\n",
    "            for i in range(n):\n",
    "                cur *= x[i] ** pair[i]\n",
    "            results.append(cur)\n",
    "    return results"
   ]
  },
  {
   "cell_type": "code",
   "execution_count": 6,
   "id": "unauthorized-bunny",
   "metadata": {},
   "outputs": [
    {
     "data": {
      "text/plain": [
       "[1,\n",
       " 2,\n",
       " 1,\n",
       " 4,\n",
       " 2,\n",
       " 1,\n",
       " 8,\n",
       " 4,\n",
       " 2,\n",
       " 1,\n",
       " 16,\n",
       " 8,\n",
       " 4,\n",
       " 2,\n",
       " 1,\n",
       " 32,\n",
       " 16,\n",
       " 8,\n",
       " 4,\n",
       " 2,\n",
       " 1,\n",
       " 64,\n",
       " 32,\n",
       " 16,\n",
       " 8,\n",
       " 4,\n",
       " 2,\n",
       " 1]"
      ]
     },
     "execution_count": 6,
     "metadata": {},
     "output_type": "execute_result"
    }
   ],
   "source": [
    "transform([1, 2], 6)"
   ]
  },
  {
   "cell_type": "code",
   "execution_count": 7,
   "id": "regular-criticism",
   "metadata": {},
   "outputs": [],
   "source": [
    "m = len(dataset)\n",
    "n = len(dataset[0]) - 1\n",
    "\n",
    "x = []\n",
    "y = []\n",
    "\n",
    "order = 6\n",
    "\n",
    "for d in dataset:\n",
    "    x.append(transform(d[:n], order))\n",
    "    y.append(d[-1])\n",
    "\n",
    "x = np.array(x)\n",
    "y = np.array(y)\n",
    "\n",
    "n = len(x[0]) - 1"
   ]
  },
  {
   "cell_type": "markdown",
   "id": "danish-montreal",
   "metadata": {},
   "source": [
    "The data now contains 28 features, since the two given features were scaled to order 6."
   ]
  },
  {
   "cell_type": "code",
   "execution_count": 8,
   "id": "professional-source",
   "metadata": {},
   "outputs": [
    {
     "data": {
      "text/plain": [
       "array([[ 1.00000000e+00,  6.99560000e-01,  5.12670000e-02,\n",
       "         4.89384194e-01,  3.58643425e-02,  2.62830529e-03,\n",
       "         3.42353606e-01,  2.50892595e-02,  1.83865725e-03,\n",
       "         1.34745327e-04,  2.39496889e-01,  1.75514423e-02,\n",
       "         1.28625106e-03,  9.42624411e-05,  6.90798869e-06,\n",
       "         1.67542444e-01,  1.22782870e-02,  8.99809795e-04,\n",
       "         6.59422333e-05,  4.83255257e-06,  3.54151856e-07,\n",
       "         1.17205992e-01,  8.58939846e-03,  6.29470940e-04,\n",
       "         4.61305487e-05,  3.38066048e-06,  2.47750473e-07,\n",
       "         1.81563032e-08],\n",
       "       [ 1.00000000e+00,  6.84940000e-01, -9.27420000e-02,\n",
       "         4.69142804e-01, -6.35227055e-02,  8.60107856e-03,\n",
       "         3.21334672e-01, -4.35092419e-02,  5.89122275e-03,\n",
       "        -7.97681228e-04,  2.20094970e-01, -2.98012201e-02,\n",
       "         4.03513411e-03, -5.46363780e-04,  7.39785525e-05,\n",
       "         1.50751849e-01, -2.04120477e-02,  2.76382476e-03,\n",
       "        -3.74226408e-04,  5.06708697e-05, -6.86091891e-06,\n",
       "         1.03255971e-01, -1.39810280e-02,  1.89305413e-03,\n",
       "        -2.56322636e-04,  3.47065055e-05, -4.69931780e-06,\n",
       "         6.36295342e-07],\n",
       "       [ 1.00000000e+00,  6.92250000e-01, -2.13710000e-01,\n",
       "         4.79210063e-01, -1.47940748e-01,  4.56719641e-02,\n",
       "         3.31733166e-01, -1.02411982e-01,  3.16164171e-02,\n",
       "        -9.76055545e-03,  2.29642284e-01, -7.08946949e-02,\n",
       "         2.18864648e-02, -6.75674451e-03,  2.08592830e-03,\n",
       "         1.58969871e-01, -4.90768525e-02,  1.51509052e-02,\n",
       "        -4.67735639e-03,  1.44398387e-03, -4.45783738e-04,\n",
       "         1.10046893e-01, -3.39734512e-02,  1.04882142e-02,\n",
       "        -3.23789996e-03,  9.99597833e-04, -3.08593793e-04,\n",
       "         9.52684426e-05],\n",
       "       [ 1.00000000e+00,  5.02190000e-01, -3.75000000e-01,\n",
       "         2.52194796e-01, -1.88321250e-01,  1.40625000e-01,\n",
       "         1.26649705e-01, -9.45730485e-02,  7.06204687e-02,\n",
       "        -5.27343750e-02,  6.36022152e-02, -4.74936392e-02,\n",
       "         3.54648932e-02, -2.64826758e-02,  1.97753906e-02,\n",
       "         3.19403964e-02, -2.38508307e-02,  1.78101147e-02,\n",
       "        -1.32993350e-02,  9.93100342e-03, -7.41577148e-03,\n",
       "         1.60401477e-02, -1.19776487e-02,  8.94406151e-03,\n",
       "        -6.67879302e-03,  4.98725061e-03, -3.72412628e-03,\n",
       "         2.78091431e-03],\n",
       "       [ 1.00000000e+00,  4.65640000e-01, -5.13250000e-01,\n",
       "         2.16820610e-01, -2.38989730e-01,  2.63425562e-01,\n",
       "         1.00960349e-01, -1.11283178e-01,  1.22661479e-01,\n",
       "        -1.35203170e-01,  4.70111767e-02, -5.18178989e-02,\n",
       "         5.71160910e-02, -6.29560041e-02,  6.93930270e-02,\n",
       "         2.18902843e-02, -2.41284865e-02,  2.65955366e-02,\n",
       "        -2.93148337e-02,  3.23121691e-02, -3.56159711e-02,\n",
       "         1.01929920e-02, -1.12351884e-02,  1.23839457e-02,\n",
       "        -1.36501592e-02,  1.50458384e-02, -1.65842208e-02,\n",
       "         1.82798972e-02]])"
      ]
     },
     "execution_count": 8,
     "metadata": {},
     "output_type": "execute_result"
    }
   ],
   "source": [
    "x[0:5]"
   ]
  },
  {
   "cell_type": "code",
   "execution_count": 9,
   "id": "intellectual-yellow",
   "metadata": {},
   "outputs": [
    {
     "data": {
      "text/plain": [
       "array([1, 1, 1, 1, 1])"
      ]
     },
     "execution_count": 9,
     "metadata": {},
     "output_type": "execute_result"
    }
   ],
   "source": [
    "y[0:5]"
   ]
  },
  {
   "cell_type": "markdown",
   "id": "verified-monster",
   "metadata": {},
   "source": [
    "Plotting the data over a scatter plot gives us an idea of the distribution."
   ]
  },
  {
   "cell_type": "code",
   "execution_count": 10,
   "id": "disabled-claim",
   "metadata": {},
   "outputs": [
    {
     "data": {
      "image/png": "[encoded data removed]",
      "text/plain": [
       "<Figure size 432x288 with 1 Axes>"
      ]
     },
     "metadata": {
      "needs_background": "light"
     },
     "output_type": "display_data"
    }
   ],
   "source": [
    "plt.scatter(x[:, 1], x[:, 2], c=y, cmap='viridis')\n",
    "plt.show()"
   ]
  },
  {
   "cell_type": "markdown",
   "id": "infrared-error",
   "metadata": {},
   "source": [
    "## Part 2: Regression and Minimization"
   ]
  },
  {
   "cell_type": "markdown",
   "id": "greater-nigeria",
   "metadata": {},
   "source": [
    "In Part 2, we define the hypothesis, error and gradient functions and perform the minimization."
   ]
  },
  {
   "cell_type": "code",
   "execution_count": 11,
   "id": "robust-accordance",
   "metadata": {},
   "outputs": [],
   "source": [
    "# sigmoid function f(z) = 1 / (1 + e^-z)\n",
    "def sigmoid(z):\n",
    "    return 1 / (1 + math.exp(-z))"
   ]
  },
  {
   "cell_type": "code",
   "execution_count": 12,
   "id": "mysterious-manitoba",
   "metadata": {},
   "outputs": [
    {
     "data": {
      "text/plain": [
       "0.5"
      ]
     },
     "execution_count": 12,
     "metadata": {},
     "output_type": "execute_result"
    }
   ],
   "source": [
    "sigmoid(0)"
   ]
  },
  {
   "cell_type": "code",
   "execution_count": 13,
   "id": "thick-platform",
   "metadata": {},
   "outputs": [],
   "source": [
    "# hypothesis function h(theta, xi) = theta^T . xi\n",
    "def hypothesis(theta, xi):\n",
    "    return sigmoid(np.matmul(np.transpose(theta), xi))"
   ]
  },
  {
   "cell_type": "code",
   "execution_count": 14,
   "id": "compact-alert",
   "metadata": {},
   "outputs": [],
   "source": [
    "# mse or mean square error function gives the error in the given theta value\n",
    "def mse(theta, lamda, x, y):\n",
    "    sum = 0\n",
    "    for i in range(m):\n",
    "        sum -= y[i] * math.log(hypothesis(theta, x[i, :])) + (1 - y[i]) * math.log(1 - hypothesis(theta, x[i, :]))\n",
    "    for i in range(1, n):\n",
    "        sum += lamda * (theta[i] ** 2) / 2\n",
    "    return sum / m"
   ]
  },
  {
   "cell_type": "code",
   "execution_count": 15,
   "id": "beneficial-champion",
   "metadata": {},
   "outputs": [],
   "source": [
    "# gradient function gives the gradients for each theta\n",
    "def gradient(theta, lamda, x, y):\n",
    "    res = np.empty(n + 1)\n",
    "    for j in range(n + 1):\n",
    "        sum = 0\n",
    "        for i in range(m):\n",
    "            sum += x[i][j] * (hypothesis(theta, x[i, :]) - y[i])\n",
    "        res[j] = sum / m\n",
    "    for j in range(1, n):\n",
    "        res[j] += lamda * theta[j] / m\n",
    "    return res"
   ]
  },
  {
   "cell_type": "code",
   "execution_count": 16,
   "id": "nominated-admission",
   "metadata": {},
   "outputs": [
    {
     "data": {
      "text/plain": [
       "0.6931471805599461"
      ]
     },
     "execution_count": 16,
     "metadata": {},
     "output_type": "execute_result"
    }
   ],
   "source": [
    "mse(np.zeros(n + 1), 0.01, x, y)"
   ]
  },
  {
   "cell_type": "code",
   "execution_count": 17,
   "id": "authentic-capture",
   "metadata": {},
   "outputs": [
    {
     "data": {
      "text/plain": [
       "(28,)"
      ]
     },
     "execution_count": 17,
     "metadata": {},
     "output_type": "execute_result"
    }
   ],
   "source": [
    "gradient(np.zeros(n + 1), 0.01, x, y).shape"
   ]
  },
  {
   "cell_type": "code",
   "execution_count": 238,
   "id": "plastic-flavor",
   "metadata": {},
   "outputs": [],
   "source": [
    "lamda = 1\n",
    "result = op.minimize(fun = mse,\n",
    "                        x0 = np.zeros(n + 1),\n",
    "                        args = (lamda, x, y),\n",
    "                        method = 'TNC',\n",
    "                        jac = gradient);\n",
    "\n",
    "theta = result.x"
   ]
  },
  {
   "cell_type": "code",
   "execution_count": 239,
   "id": "atlantic-visit",
   "metadata": {},
   "outputs": [
    {
     "data": {
      "text/plain": [
       "array([ 1.27271026,  1.18111686,  0.62529964, -1.43166929, -0.91743189,\n",
       "       -2.01987398, -0.17516291, -0.35725405, -0.36553118,  0.12393228,\n",
       "       -1.19271297, -0.27469165, -0.61558557, -0.05098418, -1.45817009,\n",
       "       -0.45645981, -0.29539513, -0.27778948, -0.04466179, -0.20603302,\n",
       "       -0.24217842, -0.92467488, -0.14389149, -0.32742404,  0.01555759,\n",
       "       -0.29244866,  0.02779373, -1.04319154])"
      ]
     },
     "execution_count": 239,
     "metadata": {},
     "output_type": "execute_result"
    }
   ],
   "source": [
    "theta"
   ]
  },
  {
   "cell_type": "markdown",
   "id": "authorized-dependence",
   "metadata": {},
   "source": [
    "## Part 3: Visualizing Decision Boundary"
   ]
  },
  {
   "cell_type": "markdown",
   "id": "vietnamese-charm",
   "metadata": {},
   "source": [
    "In Part 3, we visualize the decision boundary by calculating the prediction over a grid of x and y values."
   ]
  },
  {
   "cell_type": "code",
   "execution_count": 240,
   "id": "actual-relaxation",
   "metadata": {},
   "outputs": [],
   "source": [
    "xmin, xmax = -1, 1.5\n",
    "ymin, ymax = -0.8, 1.2\n",
    "step = 0.005\n",
    "\n",
    "x_vals = np.arange(xmin, xmax, step)\n",
    "y_vals = np.arange(ymin, ymax, step)\n",
    "\n",
    "predictions = []\n",
    "\n",
    "for yi in y_vals:\n",
    "    pi = []\n",
    "    for xi in x_vals:\n",
    "        di = np.array(transform([xi, yi], order))\n",
    "        pi.append(hypothesis(theta, di) >= 0.5)\n",
    "    predictions.append(pi)"
   ]
  },
  {
   "cell_type": "code",
   "execution_count": 225,
   "id": "crucial-slope",
   "metadata": {},
   "outputs": [
    {
     "data": {
      "image/png": "[encoded data removed]",
      "text/plain": [
       "<Figure size 720x576 with 1 Axes>"
      ]
     },
     "metadata": {
      "needs_background": "light"
     },
     "output_type": "display_data"
    }
   ],
   "source": [
    "plt.figure(figsize=(10, 8))\n",
    "plt.scatter(x[:, 1], x[:, 2], c=y, cmap='viridis')\n",
    "plt.contour(x_vals, y_vals, predictions, linewidths=0.5)\n",
    "plt.show()"
   ]
  }
 ],
 "metadata": {
  "kernelspec": {
   "display_name": "Python 3",
   "language": "python",
   "name": "python3"
  },
  "language_info": {
   "codemirror_mode": {
    "name": "ipython",
    "version": 3
   },
   "file_extension": ".py",
   "mimetype": "text/x-python",
   "name": "python",
   "nbconvert_exporter": "python",
   "pygments_lexer": "ipython3",
   "version": "3.9.0"
  }
 },
 "nbformat": 4,
 "nbformat_minor": 5
}
